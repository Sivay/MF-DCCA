{
 "cells": [
  {
   "cell_type": "code",
   "execution_count": 1,
   "metadata": {},
   "outputs": [
    {
     "name": "stdout",
     "output_type": "stream",
     "text": [
      "('trackId_0028.xls', 1, True)\n",
      "('trackId_0031.xls', 2, True)\n",
      "('trackId_0037.xls', 3, True)\n",
      "('trackId_0128.xls', 4, True)\n",
      "('trackId_0132.xls', 5, True)\n",
      "('trackId_0134.xls', 6, True)\n",
      "('trackId_0135.xls', 7, True)\n",
      "('trackId_0136.xls', 8, True)\n",
      "('trackId_0138.xls', 9, True)\n",
      "('trackId_0140.xls', 10, True)\n",
      "('trackId_0142.xls', 11, True)\n",
      "('trackId_0143.xls', 12, True)\n",
      "('trackId_0144.xls', 13, True)\n",
      "('trackId_0146.xls', 14, True)\n",
      "('010.xls', 1, True)\n",
      "('011.xls', 2, True)\n",
      "('012.xls', 3, True)\n",
      "('013.xls', 4, True)\n",
      "('014.xls', 5, True)\n",
      "('015.xls', 6, True)\n",
      "('016.xls', 7, True)\n",
      "('017.xls', 8, True)\n",
      "('018.xls', 9, True)\n",
      "('019.xls', 10, True)\n",
      "('020.xls', 11, True)\n",
      "('021.xls', 12, True)\n",
      "('022.xls', 13, True)\n",
      "('023.xls', 14, True)\n"
     ]
    }
   ],
   "source": [
    "% matplotlib inline\n",
    "import pandas as pd\n",
    "import xlrd\n",
    "import numpy as np\n",
    "from datetime import datetime\n",
    "from datetime import timedelta\n",
    "from dateutil.parser import parse\n",
    "import matplotlib\n",
    "import matplotlib.pyplot as  plt\n",
    "import os\n",
    "import powerlaw\n",
    "\n",
    "def GetFileList(dir, fileList):\n",
    "    newDir = dir\n",
    "    if os.path.isfile(dir):\n",
    "        fileList.append(dir.decode('gbk'))\n",
    "    elif os.path.isdir(dir):\n",
    "        for s in os.listdir(dir):\n",
    "            newDir=os.path.join(dir,s)\n",
    "            GetFileList(newDir, fileList)\n",
    "    return fileList\n",
    "\n",
    "def open_excel(file= 'file.xls'):\n",
    "    try:\n",
    "        data = xlrd.open_workbook(file)\n",
    "        return data\n",
    "    except Exception,e:\n",
    "        print str(e)\n",
    "\n",
    "busdir = 'bus'\n",
    "bus_data_list = os.listdir(busdir)\n",
    "taxidir = 'taxi'\n",
    "taxi_data_list = os.listdir(taxidir)\n",
    "s = [pd.Series()]\n",
    "s.append(30000)\n",
    "d1 = pd.DataFrame(s[0])\n",
    "d2 = pd.DataFrame(s[0])\n",
    "\n",
    "def busspeed(bus_data_list,d):\n",
    "    j = 1\n",
    "    for e in bus_data_list:\n",
    "        data = open_excel(busdir+'/'+e)\n",
    "        col_name = e[0:12]\n",
    "\n",
    "        x = 0\n",
    "        time = [data.sheets()[0].col_values(0)[0]]\n",
    "        time.append(3000)\n",
    "        for te in data.sheets()[0].col_values(0):\n",
    "            if x==0:\n",
    "                time[x] = te\n",
    "                time.append(3000)\n",
    "            else:\n",
    "                time[x] = parse(te)\n",
    "                time.append(3000)\n",
    "            x += 1\n",
    "        time.pop()\n",
    "        time.pop()\n",
    "        s[j] =pd.Series(data.sheets()[0].col_values(3)[1:],index=time[1:],name=col_name)\n",
    "        s.append(30000)\n",
    "        s[j] = s[j].groupby(level=0).mean()\n",
    "        d = pd.concat([d,s[j]],axis=0)\n",
    "        print(e, j,s[j].index.is_unique)\n",
    "        j += 1\n",
    "\n",
    "    #d.drop(['PTS_DATETIME'],inplace=True)\n",
    "    #d = pd.concat([s[0],s[1]],axis = 1)\n",
    "    #d.drop_duplicates(inplace=True)\n",
    "    d.sort_index()\n",
    "    return d\n",
    "\n",
    "def taxispeed(data_list,d):\n",
    "    j = 1\n",
    "    for e in data_list:\n",
    "        data = open_excel(taxidir+'/'+e)\n",
    "        col_name = e[0:3]\n",
    "\n",
    "        x = 0\n",
    "        time = [data.sheets()[0].col_values(0)[0]]\n",
    "        time.append(3000)\n",
    "        for te in data.sheets()[0].col_values(0):\n",
    "            if x==0:\n",
    "                time[x] = te\n",
    "                time.append(3000)\n",
    "            else:\n",
    "                time[x] = parse(te)\n",
    "                time.append(3000)\n",
    "            x += 1\n",
    "        time.pop()\n",
    "        time.pop()\n",
    "\n",
    "        y = 0\n",
    "        speed = [data.sheets()[0].col_values(3)[0]]\n",
    "        speed.append(3000)\n",
    "        for se in data.sheets()[0].col_values(3):\n",
    "            if y==0:\n",
    "                speed[y] = se\n",
    "                speed.append(3000)\n",
    "            else:\n",
    "                speed[y] = int(se)\n",
    "                speed.append(3000)\n",
    "            y += 1\n",
    "        speed.pop()\n",
    "        speed.pop()\n",
    "\n",
    "        s[j] =pd.Series(speed[1:],index=time[1:],name=col_name)\n",
    "        s.append(30000)\n",
    "        #print(int(data.sheets()[0].col_values(3)[100]))\n",
    "        s[j] = s[j].groupby(level=0).mean()\n",
    "        d = pd.concat([d,s[j]],axis=0)\n",
    "        print(e, j,s[j].index.is_unique)\n",
    "        j += 1\n",
    "\n",
    "    #d.drop(['PTS_DATETIME'],inplace=True)\n",
    "    #d = pd.concat([s[0],s[1]],axis = 1)\n",
    "    #d.drop_duplicates(inplace=True)\n",
    "    d.sort_index()\n",
    "    return d\n",
    "\n",
    "d1 = busspeed(bus_data_list,d1)\n",
    "d1 = d1.groupby(level=0).mean()\n",
    "#print(d1)\n",
    "d2 = taxispeed(taxi_data_list,d2)\n",
    "d2 = d2.groupby(level=0).mean()\n",
    "#print(d2)"
   ]
  },
  {
   "cell_type": "code",
   "execution_count": 2,
   "metadata": {},
   "outputs": [
    {
     "name": "stdout",
     "output_type": "stream",
     "text": [
      "['1', '5', '10', '15', '20', '25', '30', '35', '40', '45', '50', '55', '60']\n",
      "1     0    0.034352\n",
      "dtype: float64\n",
      "5     0    0.073322\n",
      "dtype: float64\n",
      "10    0    0.088843\n",
      "dtype: float64\n",
      "15      0    0.1339\n",
      "dtype: float64\n",
      "20    0    0.091697\n",
      "dtype: float64\n",
      "25     0    0.10916\n",
      "dtype: float64\n",
      "30     0    0.41818\n",
      "dtype: float64\n",
      "35    0   -0.018949\n",
      "dtype: float64\n",
      "40      0    0.0328\n",
      "dtype: float64\n",
      "45    0    0.039302\n",
      "dtype: float64\n",
      "50    0    0.307923\n",
      "dtype: float64\n",
      "55     0   -0.02976\n",
      "dtype: float64\n",
      "60    0    0.492592\n",
      "dtype: float64\n",
      "dtype: object\n"
     ]
    },
    {
     "data": {
      "text/plain": [
       "[<matplotlib.lines.Line2D at 0x6dd2050>]"
      ]
     },
     "execution_count": 2,
     "output_type": "execute_result",
     "metadata": {}
    },
    {
     "data": {
      "image/png": "[encoded data removed]"
     },
     "output_type": "display_data",
     "metadata": {}
    }
   ],
   "source": [
    "def getcorrwith(df1 = pd.DataFrame, df2 = pd.DataFrame, howlong = '1min', howto = 'mean'):\n",
    "    df1in = df1.resample(howlong,how=howto,loffset='-1s')\n",
    "    df2in = df2.resample(howlong,how=howto,loffset='-1s')\n",
    "    corrwith_num = df1in.corrwith(df2in)\n",
    "    return corrwith_num\n",
    "\n",
    "tempnum2 = np.arange(0,61,5)\n",
    "tempnum2[0] = 1\n",
    "howlong_list = []\n",
    "for e in tempnum2:\n",
    "    howlong_list.append(str(e))\n",
    "print(howlong_list)\n",
    "corrarrow = []\n",
    "for e in howlong_list:\n",
    "    corrarrow.append(getcorrwith(d1,d2,e+'min'))\n",
    "corrse = pd.Series(corrarrow,index=howlong_list)\n",
    "print(corrse)\n",
    "plt.plot(corrse)\n",
    "#plt.show()这是寻找合适的时间间隔 30分钟非常合适\n",
    "#但是到了30分钟的时候，数据量太少，没有可比性"
   ]
  },
  {
   "cell_type": "code",
   "execution_count": 3,
   "metadata": {},
   "outputs": [
    {
     "name": "stderr",
     "output_type": "stream",
     "text": [
      "C:\\Anaconda2\\lib\\site-packages\\ipykernel\\__main__.py:9: FutureWarning: \n",
      "The default value for 'return_type' will change to 'axes' in a future release.\n",
      " To use the future behavior now, set return_type='axes'.\n",
      " To keep the previous behavior and silence this warning, set return_type='dict'.\n",
      "C:\\Anaconda2\\lib\\site-packages\\ipykernel\\__main__.py:15: FutureWarning: \n",
      "The default value for 'return_type' will change to 'axes' in a future release.\n",
      " To use the future behavior now, set return_type='axes'.\n",
      " To keep the previous behavior and silence this warning, set return_type='dict'.\n"
     ]
    },
    {
     "name": "stdout",
     "output_type": "stream",
     "text": [
      "(True, True)\n"
     ]
    },
    {
     "name": "stderr",
     "output_type": "stream",
     "text": [
      "C:\\Anaconda2\\lib\\site-packages\\ipykernel\\__main__.py:21: FutureWarning: \n",
      "The default value for 'return_type' will change to 'axes' in a future release.\n",
      " To use the future behavior now, set return_type='axes'.\n",
      " To keep the previous behavior and silence this warning, set return_type='dict'.\n"
     ]
    },
    {
     "data": {
      "text/plain": [
       "<matplotlib.text.Text at 0x6a6fa10>"
      ]
     },
     "execution_count": 3,
     "output_type": "execute_result",
     "metadata": {}
    },
    {
     "data": {
      "image/png": "[encoded data removed]"
     },
     "output_type": "display_data",
     "metadata": {}
    }
   ],
   "source": [
    "print(d1.index.is_unique,d2.index.is_unique)\n",
    "fig = plt.figure(1)\n",
    "ax1 = plt.subplot(131)\n",
    "ax2 = plt.subplot(132)\n",
    "ax3 = plt.subplot(133)\n",
    "plt.sca(ax1)\n",
    "box_d1_d2 = pd.concat([d1, d2], axis = 1)\n",
    "box_d1_d2.columns = ['bus','taxi']\n",
    "box_d1_d2.boxplot()\n",
    "plt.title('original data')\n",
    "\n",
    "plt.sca(ax2)\n",
    "box_d1_d2_n0 = pd.concat([d1[d1>0], d2[d2>0]], axis = 1)\n",
    "box_d1_d2_n0.columns = ['bus','taxi']\n",
    "box_d1_d2_n0.boxplot()\n",
    "plt.title('zero truncated')\n",
    "\n",
    "plt.sca(ax3)\n",
    "box_d1_d2_1min = pd.concat([d1.resample('1min',how = 'mean',loffset = '-1s' ), d2.resample('1min',how = 'mean',loffset = '-1s' )], axis = 1)\n",
    "box_d1_d2_1min.columns = ['bus','taxi']\n",
    "box_d1_d2_1min.boxplot()\n",
    "plt.title('1min')\n",
    "#plt.show()\n",
    "#box pic这个是计算两组数据的箱形图"
   ]
  },
  {
   "cell_type": "markdown",
   "metadata": {},
   "source": [
    "然后开始计算去多重分形的去波动分析"
   ]
  },
  {
   "cell_type": "code",
   "execution_count": 4,
   "metadata": {},
   "outputs": [
    {
     "name": "stdout",
     "output_type": "stream",
     "text": [
      "(17.32312172394928, 18.040269490873477)\n"
     ]
    }
   ],
   "source": [
    "d1bus_mean = box_d1_d2_1min['bus'].mean()\n",
    "d2taxi_mean = box_d1_d2_1min['taxi'].mean()\n",
    "print(d1bus_mean,d2taxi_mean)"
   ]
  },
  {
   "cell_type": "code",
   "execution_count": 5,
   "metadata": {},
   "outputs": [
    {
     "name": "stdout",
     "output_type": "stream",
     "text": [
      "2015-05-25 00:59:59      0.034021\n",
      "2015-05-25 01:00:59     -3.061030\n",
      "2015-05-25 01:01:59     -9.442976\n",
      "2015-05-25 01:02:59    -18.543875\n",
      "2015-05-25 01:03:59    -26.984644\n",
      "2015-05-25 01:04:59    -30.022051\n",
      "2015-05-25 01:05:59    -36.220173\n",
      "2015-05-25 01:06:59    -50.072707\n",
      "2015-05-25 01:07:59    -60.570828\n",
      "2015-05-25 01:08:59    -66.154820\n",
      "2015-05-25 01:09:59    -74.773396\n",
      "2015-05-25 01:10:59    -79.358422\n",
      "2015-05-25 01:11:59    -90.231544\n",
      "2015-05-25 01:12:59    -95.691029\n",
      "2015-05-25 01:13:59   -104.101108\n",
      "2015-05-25 01:14:59   -110.253775\n",
      "2015-05-25 01:15:59   -114.993563\n",
      "2015-05-25 01:16:59   -110.893608\n",
      "2015-05-25 01:17:59   -112.853093\n",
      "2015-05-25 01:18:59   -116.551215\n",
      "2015-05-25 01:19:59   -121.770170\n",
      "2015-05-25 01:20:59   -119.759959\n",
      "2015-05-25 01:21:59   -125.425186\n",
      "2015-05-25 01:22:59   -134.292752\n",
      "2015-05-25 01:23:59   -146.549207\n",
      "2015-05-25 01:24:59   -157.591079\n",
      "2015-05-25 01:25:59   -166.927021\n",
      "2015-05-25 01:26:59   -182.750143\n",
      "2015-05-25 01:27:59   -197.317709\n",
      "2015-05-25 01:28:59   -204.979066\n",
      "                          ...    \n",
      "2015-05-25 21:29:59           NaN\n",
      "2015-05-25 21:30:59           NaN\n",
      "2015-05-25 21:31:59           NaN\n",
      "2015-05-25 21:32:59           NaN\n",
      "2015-05-25 21:33:59           NaN\n",
      "2015-05-25 21:34:59           NaN\n",
      "2015-05-25 21:35:59           NaN\n",
      "2015-05-25 21:36:59           NaN\n",
      "2015-05-25 21:37:59           NaN\n",
      "2015-05-25 21:38:59           NaN\n",
      "2015-05-25 21:39:59           NaN\n",
      "2015-05-25 21:40:59           NaN\n",
      "2015-05-25 21:41:59           NaN\n",
      "2015-05-25 21:42:59           NaN\n",
      "2015-05-25 21:43:59           NaN\n",
      "2015-05-25 21:44:59           NaN\n",
      "2015-05-25 21:45:59           NaN\n",
      "2015-05-25 21:46:59           NaN\n",
      "2015-05-25 21:47:59           NaN\n",
      "2015-05-25 21:48:59           NaN\n",
      "2015-05-25 21:49:59           NaN\n",
      "2015-05-25 21:50:59           NaN\n",
      "2015-05-25 21:51:59           NaN\n",
      "2015-05-25 21:52:59           NaN\n",
      "2015-05-25 21:53:59           NaN\n",
      "2015-05-25 21:54:59           NaN\n",
      "2015-05-25 21:55:59           NaN\n",
      "2015-05-25 21:56:59           NaN\n",
      "2015-05-25 21:57:59           NaN\n",
      "2015-05-25 21:58:59           NaN\n",
      "Freq: T, Name: bus, dtype: float64\n",
      "2015-05-25 00:59:59             NaN\n",
      "2015-05-25 01:00:59             NaN\n",
      "2015-05-25 01:01:59             NaN\n",
      "2015-05-25 01:02:59             NaN\n",
      "2015-05-25 01:03:59             NaN\n",
      "2015-05-25 01:04:59             NaN\n",
      "2015-05-25 01:05:59             NaN\n",
      "2015-05-25 01:06:59             NaN\n",
      "2015-05-25 01:07:59             NaN\n",
      "2015-05-25 01:08:59             NaN\n",
      "2015-05-25 01:09:59             NaN\n",
      "2015-05-25 01:10:59             NaN\n",
      "2015-05-25 01:11:59             NaN\n",
      "2015-05-25 01:12:59             NaN\n",
      "2015-05-25 01:13:59             NaN\n",
      "2015-05-25 01:14:59             NaN\n",
      "2015-05-25 01:15:59             NaN\n",
      "2015-05-25 01:16:59             NaN\n",
      "2015-05-25 01:17:59             NaN\n",
      "2015-05-25 01:18:59             NaN\n",
      "2015-05-25 01:19:59             NaN\n",
      "2015-05-25 01:20:59             NaN\n",
      "2015-05-25 01:21:59             NaN\n",
      "2015-05-25 01:22:59             NaN\n",
      "2015-05-25 01:23:59             NaN\n",
      "2015-05-25 01:24:59             NaN\n",
      "2015-05-25 01:25:59             NaN\n",
      "2015-05-25 01:26:59             NaN\n",
      "2015-05-25 01:27:59             NaN\n",
      "2015-05-25 01:28:59             NaN\n",
      "                           ...     \n",
      "2015-05-25 21:29:59   -1.007988e+02\n",
      "2015-05-25 21:30:59   -9.944118e+01\n",
      "2015-05-25 21:31:59   -9.635645e+01\n",
      "2015-05-25 21:32:59   -8.889672e+01\n",
      "2015-05-25 21:33:59   -8.569889e+01\n",
      "2015-05-25 21:34:59   -8.791416e+01\n",
      "2015-05-25 21:35:59   -7.672716e+01\n",
      "2015-05-25 21:36:59   -7.310493e+01\n",
      "2015-05-25 21:37:59   -5.611490e+01\n",
      "2015-05-25 21:38:59   -6.185358e+01\n",
      "2015-05-25 21:39:59   -6.493771e+01\n",
      "2015-05-25 21:40:59   -6.279407e+01\n",
      "2015-05-25 21:41:59   -6.223434e+01\n",
      "2015-05-25 21:42:59   -7.170643e+01\n",
      "2015-05-25 21:43:59   -7.000985e+01\n",
      "2015-05-25 21:44:59   -7.363346e+01\n",
      "2015-05-25 21:45:59   -7.267372e+01\n",
      "2015-05-25 21:46:59   -6.697590e+01\n",
      "2015-05-25 21:47:59   -5.766617e+01\n",
      "2015-05-25 21:48:59   -5.175189e+01\n",
      "2015-05-25 21:49:59   -4.087029e+01\n",
      "2015-05-25 21:50:59   -3.350030e+01\n",
      "2015-05-25 21:51:59   -2.663316e+01\n",
      "2015-05-25 21:52:59   -1.845121e+01\n",
      "2015-05-25 21:53:59   -1.645148e+01\n",
      "2015-05-25 21:54:59   -1.805842e+01\n",
      "2015-05-25 21:55:59   -1.852726e+01\n",
      "2015-05-25 21:56:59   -1.392753e+01\n",
      "2015-05-25 21:57:59   -8.376397e+00\n",
      "2015-05-25 21:58:59    1.925926e-11\n",
      "Freq: T, Name: taxi, dtype: float64\n"
     ]
    }
   ],
   "source": [
    "d1bus_sub_mean = box_d1_d2_1min['bus']-d1bus_mean\n",
    "d1bus_cumsum = d1bus_sub_mean.cumsum()\n",
    "d1bus_cumsum.columns = ['bus']\n",
    "print(d1bus_cumsum)\n",
    "\n",
    "d2taxi_sub_mean = box_d1_d2_1min['taxi']-d2taxi_mean\n",
    "d2taxi_cumsum = d2taxi_sub_mean.cumsum()\n",
    "d2taxi_cumsum.columns = ['taxi']\n",
    "print(d2taxi_cumsum)"
   ]
  },
  {
   "cell_type": "code",
   "execution_count": 67,
   "metadata": {},
   "outputs": [
    {
     "data": {
      "text/plain": [
       "[<matplotlib.lines.Line2D at 0x11bb2130>]"
      ]
     },
     "execution_count": 67,
     "output_type": "execute_result",
     "metadata": {}
    },
    {
     "data": {
      "image/png": "[encoded data removed]"
     },
     "output_type": "display_data",
     "metadata": {}
    }
   ],
   "source": [
    "d1bus_cumsum = d1bus_cumsum['2015-05-25 05:00:00':'2015-05-25 12:00:00']\n",
    "d2taxi_cumsum = d2taxi_cumsum['2015-05-25 05:00:00':'2015-05-25 12:00:00']\n",
    "def rescov_lsq(s,sbegin):\n",
    "    #s = 10\n",
    "    #sbegin = 500\n",
    "\n",
    "    xs =pd.Series(np.arange(sbegin,sbegin+s),index =d2taxi_cumsum[sbegin:sbegin+s].index )\n",
    "\n",
    "    xlsq_bus = pd.ols(y =d1bus_cumsum[sbegin:sbegin+s],x = xs ).beta['x']\n",
    "    inlsq_bus = pd.ols(y =d1bus_cumsum[sbegin:sbegin+s],x = xs ).beta['intercept']\n",
    "    ylsq_bus = xs*xlsq_bus+inlsq_bus\n",
    "\n",
    "\n",
    "    xlsq_taxi = pd.ols(y =d2taxi_cumsum[sbegin:sbegin+s],x = xs ).beta['x']\n",
    "    inlsq_taxi = pd.ols(y =d2taxi_cumsum[sbegin:sbegin+s],x = xs ).beta['intercept']\n",
    "    ylsq_taxi = xs*xlsq_taxi+inlsq_taxi\n",
    "\n",
    "    rescov = (d1bus_cumsum[sbegin:sbegin+s]-ylsq_bus)*(d2taxi_cumsum[sbegin:sbegin+s]-ylsq_taxi)\n",
    "    return rescov.describe()['mean']\n",
    "#print(rescov_lsq(8,418))\n",
    "rescovy = []\n",
    "ss = range(1,70)\n",
    "rescovs = []\n",
    "N = 420\n",
    "for s in ss:\n",
    "    for begin in range(0,N,s):\n",
    "        if N-begin<s:\n",
    "            break\n",
    "        else:\n",
    "            rescovy.append(rescov_lsq(s,begin))\n",
    "    rescovs.append(pd.Series(rescovy).mean())\n",
    "    rescovy = []\n",
    "\n",
    "plt.plot(rescovs)"
   ]
  },
  {
   "cell_type": "code",
   "execution_count": 121,
   "metadata": {},
   "outputs": [
    {
     "name": "stderr",
     "output_type": "stream",
     "text": [
      "Calculating best minimal value for power law fit\n",
      "C:\\Anaconda2\\lib\\site-packages\\matplotlib\\legend.py:633: UserWarning: Legend does not support [<matplotlib.lines.Line2D object at 0x13E99090>] instances.\n",
      "A proxy artist may be used instead.\n",
      "See: http://matplotlib.org/users/legend_guide.html#using-proxy-artist\n",
      "  \"#using-proxy-artist\".format(orig_handle)\n"
     ]
    },
    {
     "name": "stdout",
     "output_type": "stream",
     "text": [
      "(5.541739810604458, 60.213348948061785)\n"
     ]
    },
    {
     "name": "stderr",
     "output_type": "stream",
     "text": [
      "C:\\Anaconda2\\lib\\site-packages\\matplotlib\\legend.py:633: UserWarning: Legend does not support [<matplotlib.lines.Line2D object at 0x13E224B0>] instances.\n",
      "A proxy artist may be used instead.\n",
      "See: http://matplotlib.org/users/legend_guide.html#using-proxy-artist\n",
      "  \"#using-proxy-artist\".format(orig_handle)\n",
      "C:\\Anaconda2\\lib\\site-packages\\matplotlib\\legend.py:633: UserWarning: Legend does not support [<matplotlib.lines.Line2D object at 0x13E27490>] instances.\n",
      "A proxy artist may be used instead.\n",
      "See: http://matplotlib.org/users/legend_guide.html#using-proxy-artist\n",
      "  \"#using-proxy-artist\".format(orig_handle)\n"
     ]
    },
    {
     "data": {
      "text/plain": [
       "<matplotlib.legend.Legend at 0x13e99110>"
      ]
     },
     "execution_count": 121,
     "output_type": "execute_result",
     "metadata": {}
    },
    {
     "data": {
      "image/png": "[encoded data removed]"
     },
     "output_type": "display_data",
     "metadata": {}
    }
   ],
   "source": [
    "fit = powerlaw.Fit(rescovs,discrete=True)\n",
    "print(fit.power_law.alpha,fit.xmin)\n",
    "plot1 = plt.plot(fit.xmins, fit.Ds)\n",
    "plot2 = plt.plot(fit.xmins, fit.sigmas)\n",
    "plot3 = plt.plot(fit.xmins, fit.sigmas/fit.alphas)\n",
    "plt.legend([plot1,plot2,plot3], ('red line', 'green circles','fitsigmas'))"
   ]
  },
  {
   "cell_type": "code",
   "execution_count": 113,
   "metadata": {},
   "outputs": [
    {
     "name": "stdout",
     "output_type": "stream",
     "text": [
      "2.26325824614\n"
     ]
    },
    {
     "name": "stderr",
     "output_type": "stream",
     "text": [
      "Calculating best minimal value for power law fit\n"
     ]
    },
    {
     "data": {
      "image/png": "[encoded data removed]"
     },
     "output_type": "display_data",
     "metadata": {}
    }
   ],
   "source": [
    "xx = range(1,70)\n",
    "#yy = np.power(,5)\n",
    "yy=np.power(xx,5)\n",
    "fit2 = powerlaw.Fit(yy,discrete = True)\n",
    "print(fit2.power_law.alpha)\n",
    "plot1 = plt.plot(xx,yy)\n",
    "#plot2 = plt.plot(xx,rescovs)\n",
    "#plt.legend([plot1, plot2], ('red line', 'green circles'))# make legend"
   ]
  },
  {
   "cell_type": "code",
   "execution_count": null,
   "metadata": {},
   "outputs": [],
   "source": [
    ""
   ]
  }
 ],
 "metadata": {
  "celltoolbar": "Raw Cell Format",
  "kernelspec": {
   "display_name": "Python 2",
   "language": "python",
   "name": "python2"
  },
  "language_info": {
   "codemirror_mode": {
    "name": "ipython",
    "version": 2.0
   },
   "file_extension": ".py",
   "mimetype": "text/x-python",
   "name": "python",
   "nbconvert_exporter": "python",
   "pygments_lexer": "ipython2",
   "version": "2.7.11"
  }
 },
 "nbformat": 4,
 "nbformat_minor": 0
}